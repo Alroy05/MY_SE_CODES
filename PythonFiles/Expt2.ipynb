{
 "cells": [
  {
   "cell_type": "code",
   "execution_count": 11,
   "metadata": {},
   "outputs": [
    {
     "name": "stdout",
     "output_type": "stream",
     "text": [
      "Enter a 2 digit number45\n",
      "The first digit is 4\n",
      "The second digit is 5\n"
     ]
    }
   ],
   "source": [
    "# Alroy Pereira\n",
    "# 9631 SE COMPS A\n",
    "# EXPT 1 LIST_TUPLE_SET_DICT\n",
    "\n",
    "num1 = input(\"Enter a 2 digit number\")\n",
    "ldigit=list((num1))\n",
    "print(\"The first digit is \"+ldigit[0]+\"\\nThe second digit is \"+ldigit[1])"
   ]
  },
  {
   "cell_type": "code",
   "execution_count": 13,
   "metadata": {},
   "outputs": [
    {
     "name": "stdout",
     "output_type": "stream",
     "text": [
      "Enter a 2 digit number78\n",
      "The first digit is 7\n",
      "The second digit is 8\n"
     ]
    }
   ],
   "source": [
    "num1 = input(\"Enter a 2 digit number\")\n",
    "ldigit=tuple((num1))\n",
    "print(\"The first digit is \"+ldigit[0]+\"\\nThe second digit is \"+ldigit[1])"
   ]
  },
  {
   "cell_type": "code",
   "execution_count": 10,
   "metadata": {},
   "outputs": [
    {
     "name": "stdout",
     "output_type": "stream",
     "text": [
      "Enter a number4567\n",
      "4\n"
     ]
    }
   ],
   "source": [
    "num1 = input(\"Enter a number\")\n",
    "ldigit=list(str(num1))\n",
    "print(len(ldigit))"
   ]
  },
  {
   "cell_type": "code",
   "execution_count": 18,
   "metadata": {},
   "outputs": [
    {
     "name": "stdout",
     "output_type": "stream",
     "text": [
      "[1, 9, 25, 49, 81]\n",
      "[4, 16, 36, 64]\n"
     ]
    }
   ],
   "source": [
    "l=[1,2,3,4,5,6,7,8,9]\n",
    "\n",
    "lodd=[i**2 for i in l if (i%2!=0)]\n",
    "print(lodd)\n",
    "leven=[i**2 for i in l if (i%2!=1)]\n",
    "print(leven)"
   ]
  },
  {
   "cell_type": "code",
   "execution_count": 24,
   "metadata": {},
   "outputs": [
    {
     "name": "stdout",
     "output_type": "stream",
     "text": [
      "Enter a day: Mon\n",
      "The day is present\n"
     ]
    }
   ],
   "source": [
    "week=[\"sun\",\"mon\",\"tue\",\"wed\",\"thur\",\"fri\",\"sat\"]\n",
    "day=input(\"Enter a day: \")\n",
    "d=day.lower()\n",
    "if(d in week):\n",
    "    print(\"The day is present\")\n",
    "else:\n",
    "    print(\"Day is not present\")\n"
   ]
  },
  {
   "cell_type": "code",
   "execution_count": 52,
   "metadata": {},
   "outputs": [
    {
     "name": "stdout",
     "output_type": "stream",
     "text": [
      "(1, 2, 3)\n",
      "[1, 2, 'apple', 'orange']\n"
     ]
    }
   ],
   "source": [
    "x=(1,2,3)\n",
    "print(x)\n",
    "l=list(x)\n",
    "del(l[2])\n",
    "l.extend([\"apple\",\"orange\"])\n",
    "print(l)"
   ]
  },
  {
   "cell_type": "code",
   "execution_count": 39,
   "metadata": {},
   "outputs": [
    {
     "name": "stdout",
     "output_type": "stream",
     "text": [
      "a=67 b=77\n",
      "a=77 b=67\n"
     ]
    }
   ],
   "source": [
    "a=67\n",
    "b=77\n",
    "print(\"a=\"+str(a)+\" b=\"+str(b))\n",
    "a,b=b,a\n",
    "print(\"a=\"+str(a)+\" b=\"+str(b))"
   ]
  },
  {
   "cell_type": "code",
   "execution_count": 44,
   "metadata": {},
   "outputs": [
    {
     "name": "stdout",
     "output_type": "stream",
     "text": [
      "{'txt': 'text file', 'png': 'image file', 'py': 'python file'}\n",
      "{'txt': 'text file', 'png': 'image file', 'py': 'python file', 'doc': 'Word file'}\n"
     ]
    }
   ],
   "source": [
    "formats = {\"txt\":\"text file\",\"png\":\"image file\",\"py\":\"python file\"}\n",
    "print(formats)\n",
    "formats.update({\"doc\":\"Word file\"})\n",
    "print(formats)"
   ]
  },
  {
   "cell_type": "code",
   "execution_count": 56,
   "metadata": {
    "scrolled": true
   },
   "outputs": [
    {
     "name": "stdout",
     "output_type": "stream",
     "text": [
      "{'Jovan', 'Nathan', 'Aaron', 'Sidhu', 'Bastu'}\n",
      "{'Aaron', 'Alroy', 'Ulhas', 'Vivek'}\n",
      "{'Alroy', 'Ulhas', 'Jovan', 'Vivek', 'Nathan', 'Sidhu', 'Bastu', 'Aaron'}\n",
      "{'Aaron'}\n",
      "{'Bastu', 'Sidhu', 'Jovan', 'Nathan'}\n",
      "{'Alroy', 'Ulhas', 'Jovan', 'Vivek', 'Nathan', 'Sidhu', 'Bastu'}\n"
     ]
    }
   ],
   "source": [
    "set1={\"Jovan\",\"Nathan\",\"Aaron\",\"Bastu\",\"Sidhu\"}\n",
    "set2={\"Vivek\",\"Ulhas\",\"Aaron\",\"Alroy\"}\n",
    "print(set1)\n",
    "print(set2)\n",
    "print(set1.union(set2))\n",
    "print(set1.intersection(set2))\n",
    "print(set1.difference(set2))\n",
    "print(set1.symmetric_difference(set2))"
   ]
  },
  {
   "cell_type": "code",
   "execution_count": 8,
   "metadata": {},
   "outputs": [
    {
     "name": "stdout",
     "output_type": "stream",
     "text": [
      "(2008, 11, 6)\n"
     ]
    }
   ],
   "source": [
    "from datetime import datetime\n",
    "\n",
    "def con_date(indate):\n",
    "    dates = datetime.strptime(indate, '%d %b, %Y')\n",
    "    return (dates.year, dates.month, dates.day)\n",
    "\n",
    "indate = '6 Nov, 2008'\n",
    "tupdate = con_date(indate)\n",
    "print(tupdate)"
   ]
  }
 ],
 "metadata": {
  "kernelspec": {
   "display_name": "Python 3",
   "language": "python",
   "name": "python3"
  },
  "language_info": {
   "codemirror_mode": {
    "name": "ipython",
    "version": 3
   },
   "file_extension": ".py",
   "mimetype": "text/x-python",
   "name": "python",
   "nbconvert_exporter": "python",
   "pygments_lexer": "ipython3",
   "version": "3.11.1"
  },
  "vscode": {
   "interpreter": {
    "hash": "9c353a73317b0b49c16eab7d8b6e9c61636e345b05bde9ea88fdbfd6d8525bd1"
   }
  }
 },
 "nbformat": 4,
 "nbformat_minor": 4
}
