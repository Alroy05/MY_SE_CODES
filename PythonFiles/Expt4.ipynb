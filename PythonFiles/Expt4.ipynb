{
 "cells": [
  {
   "cell_type": "code",
   "execution_count": 25,
   "metadata": {},
   "outputs": [
    {
     "name": "stdout",
     "output_type": "stream",
     "text": [
      "Alroy\n"
     ]
    }
   ],
   "source": [
    "#Alroy Pereira\n",
    "#9631 SE COMPS A\n",
    "\n",
    "def same(name):\n",
    "    return name\n",
    "a=same('Alroy')\n",
    "print(a)"
   ]
  },
  {
   "cell_type": "code",
   "execution_count": 17,
   "metadata": {},
   "outputs": [
    {
     "name": "stdout",
     "output_type": "stream",
     "text": [
      "3\n"
     ]
    }
   ],
   "source": [
    "def substract(a):\n",
    "    print(a-3)\n",
    "\n",
    "a=int(input(\"Enter a number \"))\n",
    "substract(a)\n",
    "#Input 5"
   ]
  },
  {
   "cell_type": "code",
   "execution_count": 18,
   "metadata": {},
   "outputs": [
    {
     "name": "stdout",
     "output_type": "stream",
     "text": [
      "Hello,my name is Becky and I love SI 106\n"
     ]
    }
   ],
   "source": [
    "def intro(name):\n",
    "    print(\"Hello,my name is \"+name+\" and I love SI 106\")\n",
    "intro(\"Becky\")"
   ]
  },
  {
   "cell_type": "code",
   "execution_count": 19,
   "metadata": {},
   "outputs": [
    {
     "name": "stdout",
     "output_type": "stream",
     "text": [
      "21\n"
     ]
    }
   ],
   "source": [
    "def total(num):\n",
    "    num1=0\n",
    "    for i in num:\n",
    "        num1=num1+i\n",
    "    print(num1)\n",
    "num=[1,2,3,4,5,6]\n",
    "total(num)\n"
   ]
  },
  {
   "cell_type": "code",
   "execution_count": 20,
   "metadata": {},
   "outputs": [
    {
     "name": "stdout",
     "output_type": "stream",
     "text": [
      "[0, 2, 4, 6, 8, 10, 12, 14]\n"
     ]
    }
   ],
   "source": [
    "n=0\n",
    "eve_nums=[]\n",
    "\n",
    "while n<=15:\n",
    "    if n%2==0:\n",
    "        eve_nums.append(n)\n",
    "    n=n+1\n",
    "\n",
    "print(eve_nums)"
   ]
  },
  {
   "cell_type": "code",
   "execution_count": 21,
   "metadata": {},
   "outputs": [
    {
     "name": "stdout",
     "output_type": "stream",
     "text": [
      "197\n",
      "197\n"
     ]
    }
   ],
   "source": [
    "sum1 = 0\n",
    "lst = [65,78,21,33]\n",
    "for x in lst:\n",
    "    sum1=sum1+x\n",
    "\n",
    "print(sum1)\n",
    "\n",
    "sum2=0\n",
    "ele=0\n",
    "lst2=[65,78,21,33]\n",
    "while(ele < len(lst2)):\n",
    "    sum2 = sum2 + lst2[ele]\n",
    "    ele = ele +1\n",
    "print(sum2)"
   ]
  },
  {
   "cell_type": "code",
   "execution_count": 22,
   "metadata": {},
   "outputs": [
    {
     "name": "stdout",
     "output_type": "stream",
     "text": [
      "12\n",
      "12\n",
      "48\n"
     ]
    }
   ],
   "source": [
    "def addit(num):\n",
    "    num=num+5\n",
    "    print(num)\n",
    "    return num\n",
    "\n",
    "def mult(num1,num):\n",
    "    res=num*num1\n",
    "    print(res)\n",
    "\n",
    "num= int(input(\"Enter a number: \"))\n",
    "addit(num)\n",
    "num1=int(input ('Enter a number: '))\n",
    "mult(num1,addit(num))"
   ]
  },
  {
   "cell_type": "code",
   "execution_count": 24,
   "metadata": {},
   "outputs": [
    {
     "name": "stdout",
     "output_type": "stream",
     "text": [
      "{'Gold': 3}\n",
      "{'Gold': 3, 'Silver': 5}\n",
      "{'Gold': 3, 'Silver': 5, 'Bronze': 7}\n"
     ]
    }
   ],
   "source": [
    "medals={}\n",
    "for i in range(3):\n",
    "    typeofmedal=input('Enter type of medals: ')\n",
    "    num=int(input(\"Enter the number of medals: \"))\n",
    "    medals[typeofmedal]=num\n",
    "    print(medals)"
   ]
  },
  {
   "cell_type": "code",
   "execution_count": null,
   "metadata": {},
   "outputs": [
    {
     "name": "stdout",
     "output_type": "stream",
     "text": [
      "['987', '754', '2344', '33', '1450']\n"
     ]
    }
   ],
   "source": [
    "nums = [\"1450\",\"33\",\"754\",\"2344\",\"987\"]\n",
    "\n",
    "def last_char(s1):\n",
    "    return s1[-1]\n",
    "nums_sorted=sorted(nums,reverse=True,key=last_char)\n",
    "print(nums_sorted)"
   ]
  }
 ],
 "metadata": {
  "kernelspec": {
   "display_name": "Python 3",
   "language": "python",
   "name": "python3"
  },
  "language_info": {
   "codemirror_mode": {
    "name": "ipython",
    "version": 3
   },
   "file_extension": ".py",
   "mimetype": "text/x-python",
   "name": "python",
   "nbconvert_exporter": "python",
   "pygments_lexer": "ipython3",
   "version": "3.11.1"
  },
  "orig_nbformat": 4,
  "vscode": {
   "interpreter": {
    "hash": "9c353a73317b0b49c16eab7d8b6e9c61636e345b05bde9ea88fdbfd6d8525bd1"
   }
  }
 },
 "nbformat": 4,
 "nbformat_minor": 2
}
