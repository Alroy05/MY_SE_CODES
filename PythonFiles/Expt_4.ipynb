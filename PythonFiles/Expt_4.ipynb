{
 "cells": [
  {
   "cell_type": "code",
   "execution_count": 3,
   "metadata": {},
   "outputs": [
    {
     "name": "stdout",
     "output_type": "stream",
     "text": [
      "Name: Alroy \n",
      "Roll number: 9631 \n",
      "Age:  19 \n",
      "Marks:  98\n"
     ]
    }
   ],
   "source": [
    "# Alroy Pereira \n",
    "# SE Comps A 9631\n",
    "\n",
    "# 1\n",
    "class Student:\n",
    "    def __init__(self, name, roll_no):\n",
    "        self.name = name\n",
    "        self.roll_no = roll_no\n",
    "    def display(self):\n",
    "        print(\"Name:\", self.name, \"\\nRoll number:\", self.roll_no,\"\\nAge: \",self.age,\"\\nMarks: \",self.marks)\n",
    "    def setAge(self):\n",
    "        self.age = input(\"Enter age of Student:\")\n",
    "    def setMarks(self):\n",
    "        self.marks = input(\"Enter marks of Student:\")\n",
    "s1 = Student(\"Alroy\", 9631)\n",
    "s1.setAge()\n",
    "s1.setMarks()\n",
    "s1.display()"
   ]
  },
  {
   "cell_type": "code",
   "execution_count": 10,
   "metadata": {},
   "outputs": [
    {
     "name": "stdout",
     "output_type": "stream",
     "text": [
      "1 hours and 30 minutes.\n",
      "2 hours and 43 minutes.\n",
      "4 hours and 13 minutes.\n",
      "Total minutes: 253\n"
     ]
    }
   ],
   "source": [
    "\n",
    "class Time:\n",
    "  def __init__(self, hours, minutes):\n",
    "    self.hours = int(hours)\n",
    "    self.minutes = int(minutes)\n",
    "  def addTime(self, x, y):\n",
    "    self.tot_hours = (x.hours + y.hours) + (x.minutes + y.minutes)// 60\n",
    "    self.tot_mins = (x.minutes + y.minutes) % 60\n",
    "    print(self.tot_hours, \"hours and\", self.tot_mins, \"minutes.\")\n",
    "  def displayTime(self):\n",
    "    print(self.hours, \"hours and\", self.minutes, \"minutes.\")\n",
    "  def DisplayMinute(self):\n",
    "    self.fin_min = 0\n",
    "    for i in range(1, (self.tot_hours) + 1):\n",
    "      self.fin_min = self.fin_min + 60\n",
    "    self.fin_min = self.fin_min + self.tot_mins\n",
    "    print(\"Total minutes:\", self.fin_min)\n",
    "\n",
    "t1 = Time(1, 30)\n",
    "t2 = Time(2, 43)\n",
    "t1.displayTime()\n",
    "t2.displayTime()\n",
    "t3 = Time(0, 0)\n",
    "t3.addTime(t1, t2)\n",
    "t3.DisplayMinute()\n",
    "\n"
   ]
  }
 ],
 "metadata": {
  "kernelspec": {
   "display_name": "Python 3",
   "language": "python",
   "name": "python3"
  },
  "language_info": {
   "name": "python",
   "version": "3.11.1"
  },
  "orig_nbformat": 4,
  "vscode": {
   "interpreter": {
    "hash": "9c353a73317b0b49c16eab7d8b6e9c61636e345b05bde9ea88fdbfd6d8525bd1"
   }
  }
 },
 "nbformat": 4,
 "nbformat_minor": 2
}
