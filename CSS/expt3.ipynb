{
 "cells": [
  {
   "cell_type": "code",
   "execution_count": 2,
   "id": "ba43f109",
   "metadata": {},
   "outputs": [],
   "source": [
    "# Alroy Pereira \n",
    "# 9631 TE COMPS A\n",
    "\n",
    "import hashlib\n",
    "from datetime import datetime"
   ]
  },
  {
   "cell_type": "code",
   "execution_count": 2,
   "id": "a69b3461",
   "metadata": {},
   "outputs": [
    {
     "name": "stdout",
     "output_type": "stream",
     "text": [
      "The hexadecimal equivalent of hash is : e807f1fcf82d132f9bb018ca6738a19f\n",
      "time taken by MD5: 0:00:00\n"
     ]
    }
   ],
   "source": [
    "t1 = datetime.now()\n",
    "str2hash = \"1234567890\"\n",
    "result = hashlib.md5(str2hash.encode())\n",
    "t2 = datetime.now()\n",
    "print(\"The hexadecimal equivalent of hash is : \", end =\"\")\n",
    "print(result.hexdigest())\n",
    "print(\"time taken by MD5:\", t2-t1)"
   ]
  },
  {
   "cell_type": "code",
   "execution_count": 3,
   "id": "98707712",
   "metadata": {},
   "outputs": [
    {
     "name": "stdout",
     "output_type": "stream",
     "text": [
      "The hexadecimal equivalent of hash is : c3fcd3d76192e4007dfb496cca67e13b\n",
      "time taken by MD5: 0:00:00.001002\n"
     ]
    }
   ],
   "source": [
    "str2hash = \"abcdefghijklmnopqrstuvwxyz\"\n",
    "t1 = datetime.now()\n",
    "result = hashlib.md5(str2hash.encode())\n",
    "t2 = datetime.now()\n",
    "print(\"The hexadecimal equivalent of hash is : \", end =\"\")\n",
    "print(result.hexdigest())\n",
    "print(\"time taken by MD5:\", t2-t1)"
   ]
  },
  {
   "cell_type": "code",
   "execution_count": 4,
   "id": "2ff9fe30",
   "metadata": {},
   "outputs": [
    {
     "name": "stdout",
     "output_type": "stream",
     "text": [
      "The hexadecimal equivalent of hash is : f96b697d7cb7938d525a2f31aaf161d0\n",
      "time taken by MD5: 0:00:00\n"
     ]
    }
   ],
   "source": [
    "str2hash = \"message digest\"\n",
    "t1 = datetime.now()\n",
    "result = hashlib.md5(str2hash.encode())\n",
    "t2 = datetime.now()\n",
    "print(\"The hexadecimal equivalent of hash is : \", end =\"\")\n",
    "print(result.hexdigest())\n",
    "print(\"time taken by MD5:\", t2-t1)"
   ]
  },
  {
   "cell_type": "code",
   "execution_count": 5,
   "id": "2d253da0",
   "metadata": {},
   "outputs": [
    {
     "name": "stdout",
     "output_type": "stream",
     "text": [
      "The hexadecimal equivalent of SHA1 is : \n",
      "01b307acba4f54f55aafc33bb06bbbf6ca803e9a\n",
      "time taken by SH1: 0:00:00.000998\n"
     ]
    }
   ],
   "source": [
    "str = \"1234567890\"\n",
    "t1 = datetime.now()\n",
    "result = hashlib.sha1(str.encode())\n",
    "t2 = datetime.now()\n",
    "print(\"The hexadecimal equivalent of SHA1 is : \")\n",
    "print(result.hexdigest())\n",
    "print(\"time taken by SH1:\", t2-t1)"
   ]
  },
  {
   "cell_type": "code",
   "execution_count": 6,
   "id": "437394a9",
   "metadata": {},
   "outputs": [
    {
     "name": "stdout",
     "output_type": "stream",
     "text": [
      "The hexadecimal equivalent of SHA1 is : \n",
      "32d10c7b8cf96570ca04ce37f2a19d84240d3a89\n",
      "time taken by SH1: 0:00:00\n"
     ]
    }
   ],
   "source": [
    "str = \"abcdefghijklmnopqrstuvwxyz\"\n",
    "t1 = datetime.now()\n",
    "result = hashlib.sha1(str.encode())\n",
    "t2 = datetime.now()\n",
    "print(\"The hexadecimal equivalent of SHA1 is : \")\n",
    "print(result.hexdigest())\n",
    "print(\"time taken by SH1:\", t2-t1)"
   ]
  },
  {
   "cell_type": "code",
   "execution_count": 7,
   "id": "5c426cb0",
   "metadata": {},
   "outputs": [
    {
     "name": "stdout",
     "output_type": "stream",
     "text": [
      "The hexadecimal equivalent of SHA1 is : \n",
      "c12252ceda8be8994d5fa0290a47231c1d16aae3\n",
      "time taken by SH1: 0:00:00\n"
     ]
    }
   ],
   "source": [
    "str = \"message digest\"\n",
    "t1 = datetime.now()\n",
    "result = hashlib.sha1(str.encode())\n",
    "t2 = datetime.now()\n",
    "print(\"The hexadecimal equivalent of SHA1 is : \")\n",
    "print(result.hexdigest())\n",
    "print(\"time taken by SH1:\", t2-t1)\n"
   ]
  },
  {
   "cell_type": "code",
   "execution_count": 10,
   "id": "f90f93bf",
   "metadata": {},
   "outputs": [
    {
     "name": "stdout",
     "output_type": "stream",
     "text": [
      "Hash of the input string:\n",
      "b1ec58bcb70c6d7c80b8e0ab2ba73b6d\n",
      "time taken by MD5: 0:00:00.000994\n"
     ]
    }
   ],
   "source": [
    "f= open(\"kb1.txt\",'r')\n",
    "inputstring = f.read()\n",
    "t1 = datetime.now()\n",
    "output = hashlib.md5(inputstring.encode())\n",
    "print(\"Hash of the input string:\")\n",
    "print(output.hexdigest())\n",
    "t2 = datetime.now()\n",
    "print(\"time taken by MD5:\", t2-t1)"
   ]
  },
  {
   "cell_type": "code",
   "execution_count": 12,
   "id": "dde08077",
   "metadata": {},
   "outputs": [
    {
     "name": "stdout",
     "output_type": "stream",
     "text": [
      "Hash of the input string:\n",
      "dcdb91d7b4a989a565546c318e18c43016ceb283\n",
      "time taken by SHA1: 0:00:00.000977\n"
     ]
    }
   ],
   "source": [
    "f= open(\"kb1.txt\",'r')\n",
    "inputstring = f.read()\n",
    "t1 = datetime.now()\n",
    "output = hashlib.sha1(inputstring.encode())\n",
    "print(\"Hash of the input string:\")\n",
    "print(output.hexdigest())\n",
    "t2 = datetime.now()\n",
    "print(\"time taken by SHA1:\", t2-t1)"
   ]
  },
  {
   "cell_type": "code",
   "execution_count": 22,
   "id": "222aca72",
   "metadata": {},
   "outputs": [
    {
     "name": "stdout",
     "output_type": "stream",
     "text": [
      "Hash of the input string:\n",
      "5b3640e4529baca150f61f01f84068a1\n",
      "time taken by MD5: 0:00:00.000999\n"
     ]
    }
   ],
   "source": [
    "f= open(\"kb5.txt\",'r')\n",
    "inputstring = f.read()\n",
    "t1 = datetime.now()\n",
    "output = hashlib.md5(inputstring.encode())\n",
    "print(\"Hash of the input string:\")\n",
    "print(output.hexdigest())\n",
    "t2 = datetime.now()\n",
    "print(\"time taken by MD5:\", t2-t1)"
   ]
  },
  {
   "cell_type": "code",
   "execution_count": 20,
   "id": "63372441",
   "metadata": {},
   "outputs": [
    {
     "name": "stdout",
     "output_type": "stream",
     "text": [
      "Hash of the input string:\n",
      "33acbbd3c3082059656f35af539cf5f4da0d8ba8\n",
      "time taken by SHA1: 0:00:00.001000\n"
     ]
    }
   ],
   "source": [
    "f= open(\"kb5.txt\",'r')\n",
    "inputstring = f.read()\n",
    "t1 = datetime.now()\n",
    "output = hashlib.sha1(inputstring.encode())\n",
    "print(\"Hash of the input string:\")\n",
    "print(output.hexdigest())\n",
    "t2 = datetime.now()\n",
    "print(\"time taken by SHA1:\", t2-t1)"
   ]
  },
  {
   "cell_type": "code",
   "execution_count": 3,
   "id": "bfeca52c",
   "metadata": {},
   "outputs": [
    {
     "name": "stdout",
     "output_type": "stream",
     "text": [
      "Hash of the input string:\n",
      "83fca48e4342a7c4cf850806bb6b7340\n",
      "time taken by MD5: 0:00:00.001005\n"
     ]
    }
   ],
   "source": [
    "f= open(\"kb10.txt\",'r')\n",
    "inputstring = f.read()\n",
    "t1 = datetime.now()\n",
    "output = hashlib.md5(inputstring.encode())\n",
    "print(\"Hash of the input string:\")\n",
    "print(output.hexdigest())\n",
    "t2 = datetime.now()\n",
    "print(\"time taken by MD5:\", t2-t1)"
   ]
  },
  {
   "cell_type": "code",
   "execution_count": 4,
   "id": "8e95f365",
   "metadata": {},
   "outputs": [
    {
     "name": "stdout",
     "output_type": "stream",
     "text": [
      "Hash of the input string:\n",
      "13a9a4c5295e406de49f7cd084557272c03b9058\n",
      "time taken by SHA1: 0:00:00.001974\n"
     ]
    }
   ],
   "source": [
    "f= open(\"kb10.txt\",'r')\n",
    "inputstring = f.read()\n",
    "t1 = datetime.now()\n",
    "output = hashlib.sha1(inputstring.encode())\n",
    "print(\"Hash of the input string:\")\n",
    "print(output.hexdigest())\n",
    "t2 = datetime.now()\n",
    "print(\"time taken by SHA1:\", t2-t1)\n"
   ]
  }
 ],
 "metadata": {
  "kernelspec": {
   "display_name": "Python 3 (ipykernel)",
   "language": "python",
   "name": "python3"
  },
  "language_info": {
   "codemirror_mode": {
    "name": "ipython",
    "version": 3
   },
   "file_extension": ".py",
   "mimetype": "text/x-python",
   "name": "python",
   "nbconvert_exporter": "python",
   "pygments_lexer": "ipython3",
   "version": "3.11.1"
  }
 },
 "nbformat": 4,
 "nbformat_minor": 5
}
